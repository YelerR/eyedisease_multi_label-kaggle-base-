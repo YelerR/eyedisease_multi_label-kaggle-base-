{
 "cells": [
  {
   "cell_type": "code",
   "execution_count": 1,
   "id": "8f61cf9e",
   "metadata": {},
   "outputs": [],
   "source": [
    "import os, cv2\n",
    "import pandas as pd\n",
    "import numpy as np\n",
    "from sklearn.model_selection import train_test_split\n",
    "import matplotlib.pyplot as plt\n",
    "import numpy as np\n",
    "import tensorflow as tf\n",
    "import keras\n",
    "from collections import defaultdict, namedtuple\n",
    "from tqdm import tqdm\n",
    "from tensorflow.keras.applications import Xception\n",
    "from tensorflow.keras.preprocessing.image import ImageDataGenerator\n",
    "from tensorflow.keras.utils import get_custom_objects\n",
    "from tensorflow.keras.callbacks import ModelCheckpoint,EarlyStopping,ReduceLROnPlateau\n",
    "from tensorflow.keras.applications import xception, vgg19\n",
    "from tensorflow.keras.applications import Xception, vgg19\n",
    "from tensorflow.keras.layers import Dense, Flatten, Dropout, Input, GlobalAveragePooling2D, Activation, Dense, Dropout \n",
    "from tensorflow.keras.layers import BatchNormalization, Conv2D, Embedding, MaxPool2D, SeparableConv2D, MaxPooling2D, concatenate, UpSampling2D\n",
    "from tensorflow.keras.models import Model, Sequential\n",
    "from tensorflow.keras import layers\n",
    "from tensorflow.keras.applications.imagenet_utils import preprocess_input\n",
    "from tensorflow.keras.applications import Xception,resnet \n",
    "from tensorflow.keras import regularizers\n",
    "from sklearn.preprocessing import MinMaxScaler\n",
    "from sklearn.preprocessing import *\n",
    "from keras.optimizers import Adam, SGD, Adamax\n",
    "from tensorflow.keras.optimizers import Adam\n",
    "from keras.layers import Concatenate\n",
    "from keras.utils.np_utils import to_categorical \n",
    "\n",
    "from tensorflow.keras.losses import CategoricalCrossentropy, BinaryCrossentropy\n",
    "\n"
   ]
  },
  {
   "cell_type": "markdown",
   "id": "15ffa99f",
   "metadata": {},
   "source": [
    "# gpu 사용가능 확인"
   ]
  },
  {
   "cell_type": "code",
   "execution_count": 2,
   "id": "ff83f03f",
   "metadata": {},
   "outputs": [
    {
     "name": "stdout",
     "output_type": "stream",
     "text": [
      "[name: \"/device:CPU:0\"\n",
      "device_type: \"CPU\"\n",
      "memory_limit: 268435456\n",
      "locality {\n",
      "}\n",
      "incarnation: 1544140496727652215\n",
      "xla_global_id: -1\n",
      ", name: \"/device:GPU:0\"\n",
      "device_type: \"GPU\"\n",
      "memory_limit: 6298796032\n",
      "locality {\n",
      "  bus_id: 1\n",
      "  links {\n",
      "  }\n",
      "}\n",
      "incarnation: 2444068934947999573\n",
      "physical_device_desc: \"device: 0, name: NVIDIA GeForce RTX 2070, pci bus id: 0000:08:00.0, compute capability: 7.5\"\n",
      "xla_global_id: 416903419\n",
      "]\n"
     ]
    }
   ],
   "source": [
    "from tensorflow.python.client import device_lib\n",
    "print(device_lib.list_local_devices())"
   ]
  },
  {
   "cell_type": "markdown",
   "id": "9acc9389",
   "metadata": {},
   "source": [
    "# 필요한 만큼 메모리를 런타임에 할당하는 방법"
   ]
  },
  {
   "cell_type": "code",
   "execution_count": 3,
   "id": "e5b91a76",
   "metadata": {},
   "outputs": [
    {
     "name": "stdout",
     "output_type": "stream",
     "text": [
      "1 Physical GPUs, 1 Logical GPUs\n"
     ]
    }
   ],
   "source": [
    "gpus = tf.config.experimental.list_physical_devices('GPU')\n",
    "if gpus:\n",
    "    try:\n",
    "        # Currently, memory growth needs to be the same across GPUs\n",
    "        for gpu in gpus:\n",
    "            tf.config.experimental.set_memory_growth(gpu, True)\n",
    "        logical_gpus = tf.config.experimental.list_logical_devices('GPU')\n",
    "        print(len(gpus), \"Physical GPUs,\", len(logical_gpus), \"Logical GPUs\")\n",
    "    except RuntimeError as e:\n",
    "        # Memory growth must be set before GPUs have been initialized\n",
    "        print(e)     \n"
   ]
  },
  {
   "cell_type": "markdown",
   "id": "60518017",
   "metadata": {},
   "source": [
    "# warnings hide"
   ]
  },
  {
   "cell_type": "code",
   "execution_count": 4,
   "id": "9fe97c95",
   "metadata": {},
   "outputs": [],
   "source": [
    "import warnings\n",
    "# 경고 메시지를 무시하고 숨기거나\n",
    "warnings.filterwarnings(action='ignore')"
   ]
  },
  {
   "cell_type": "code",
   "execution_count": 5,
   "id": "a9403ba8",
   "metadata": {},
   "outputs": [],
   "source": [
    "SEED = 42\n",
    "seed = 42\n",
    "EPOCHS = 100\n",
    "epochs = 100\n",
    "BATCH_SIZE = 32\n",
    "batch_size = 32\n",
    "IMG_HEIGHT = 224\n",
    "img_height = 224\n",
    "IMG_WIDTH = 224\n",
    "img_width = 224\n",
    "num_classes = 8\n",
    "patience = 5"
   ]
  },
  {
   "cell_type": "code",
   "execution_count": 6,
   "id": "985da2a8",
   "metadata": {},
   "outputs": [],
   "source": [
    "def seed_everything(seed):\n",
    "    np.random.seed(seed)\n",
    "    os.environ['PYTHONHASHSEED'] = str(seed)\n",
    "    tf.random.set_seed(seed)"
   ]
  },
  {
   "cell_type": "code",
   "execution_count": 7,
   "id": "b66d0c25",
   "metadata": {},
   "outputs": [],
   "source": [
    "seed_everything(seed)"
   ]
  },
  {
   "cell_type": "code",
   "execution_count": 8,
   "id": "78fdf371",
   "metadata": {},
   "outputs": [],
   "source": [
    "full_df = pd.read_csv('full_df(agumentation).csv', index_col= 0)"
   ]
  },
  {
   "cell_type": "code",
   "execution_count": 9,
   "id": "9d20458b",
   "metadata": {},
   "outputs": [],
   "source": [
    "full_df['labels'] = full_df['labels'].map({'N' : 0, 'D' : 1, 'G' : 2, 'C' : 3,  'A' : 4, 'H' : 5, 'M' : 6, 'O' : 7})"
   ]
  },
  {
   "cell_type": "code",
   "execution_count": 10,
   "id": "911ef867",
   "metadata": {},
   "outputs": [
    {
     "data": {
      "text/plain": [
       "0    2873\n",
       "4    2128\n",
       "7    2124\n",
       "3    2051\n",
       "1    2008\n",
       "2    1988\n",
       "6    1856\n",
       "5    1280\n",
       "Name: labels, dtype: int64"
      ]
     },
     "execution_count": 10,
     "metadata": {},
     "output_type": "execute_result"
    }
   ],
   "source": [
    "full_df['labels'].value_counts()"
   ]
  },
  {
   "cell_type": "code",
   "execution_count": 11,
   "id": "520f3958",
   "metadata": {},
   "outputs": [
    {
     "data": {
      "text/plain": [
       "16308"
      ]
     },
     "execution_count": 11,
     "metadata": {},
     "output_type": "execute_result"
    }
   ],
   "source": [
    "full_df['labels'].value_counts().sum()"
   ]
  },
  {
   "cell_type": "code",
   "execution_count": 12,
   "id": "4edfc3e6",
   "metadata": {},
   "outputs": [],
   "source": [
    "df = full_df[:13000]"
   ]
  },
  {
   "cell_type": "code",
   "execution_count": 13,
   "id": "65f25915",
   "metadata": {},
   "outputs": [
    {
     "data": {
      "text/html": [
       "<div>\n",
       "<style scoped>\n",
       "    .dataframe tbody tr th:only-of-type {\n",
       "        vertical-align: middle;\n",
       "    }\n",
       "\n",
       "    .dataframe tbody tr th {\n",
       "        vertical-align: top;\n",
       "    }\n",
       "\n",
       "    .dataframe thead th {\n",
       "        text-align: right;\n",
       "    }\n",
       "</style>\n",
       "<table border=\"1\" class=\"dataframe\">\n",
       "  <thead>\n",
       "    <tr style=\"text-align: right;\">\n",
       "      <th></th>\n",
       "      <th>filename</th>\n",
       "      <th>labels</th>\n",
       "    </tr>\n",
       "  </thead>\n",
       "  <tbody>\n",
       "    <tr>\n",
       "      <th>10086</th>\n",
       "      <td>preprocessed_images(divide)/M/M_270_1621_right...</td>\n",
       "      <td>6</td>\n",
       "    </tr>\n",
       "    <tr>\n",
       "      <th>1176</th>\n",
       "      <td>preprocessed_images(divide)/A/A_blur_1877_left...</td>\n",
       "      <td>4</td>\n",
       "    </tr>\n",
       "    <tr>\n",
       "      <th>13744</th>\n",
       "      <td>preprocessed_images(divide)/N/4057_left.jpg</td>\n",
       "      <td>0</td>\n",
       "    </tr>\n",
       "    <tr>\n",
       "      <th>12015</th>\n",
       "      <td>preprocessed_images(divide)/N/2564_left.jpg</td>\n",
       "      <td>0</td>\n",
       "    </tr>\n",
       "    <tr>\n",
       "      <th>8754</th>\n",
       "      <td>preprocessed_images(divide)/H/H_90_fliplr_4214...</td>\n",
       "      <td>5</td>\n",
       "    </tr>\n",
       "    <tr>\n",
       "      <th>...</th>\n",
       "      <td>...</td>\n",
       "      <td>...</td>\n",
       "    </tr>\n",
       "    <tr>\n",
       "      <th>5085</th>\n",
       "      <td>preprocessed_images(divide)/D/4400_right.jpg</td>\n",
       "      <td>1</td>\n",
       "    </tr>\n",
       "    <tr>\n",
       "      <th>9428</th>\n",
       "      <td>preprocessed_images(divide)/H/H_flipud_723_lef...</td>\n",
       "      <td>5</td>\n",
       "    </tr>\n",
       "    <tr>\n",
       "      <th>8657</th>\n",
       "      <td>preprocessed_images(divide)/H/H_90_686_left.jpg</td>\n",
       "      <td>5</td>\n",
       "    </tr>\n",
       "    <tr>\n",
       "      <th>9667</th>\n",
       "      <td>preprocessed_images(divide)/M/401_left.jpg</td>\n",
       "      <td>6</td>\n",
       "    </tr>\n",
       "    <tr>\n",
       "      <th>3106</th>\n",
       "      <td>preprocessed_images(divide)/C/C_90_2138_right.jpg</td>\n",
       "      <td>3</td>\n",
       "    </tr>\n",
       "  </tbody>\n",
       "</table>\n",
       "<p>13000 rows × 2 columns</p>\n",
       "</div>"
      ],
      "text/plain": [
       "                                                filename  labels\n",
       "10086  preprocessed_images(divide)/M/M_270_1621_right...       6\n",
       "1176   preprocessed_images(divide)/A/A_blur_1877_left...       4\n",
       "13744        preprocessed_images(divide)/N/4057_left.jpg       0\n",
       "12015        preprocessed_images(divide)/N/2564_left.jpg       0\n",
       "8754   preprocessed_images(divide)/H/H_90_fliplr_4214...       5\n",
       "...                                                  ...     ...\n",
       "5085        preprocessed_images(divide)/D/4400_right.jpg       1\n",
       "9428   preprocessed_images(divide)/H/H_flipud_723_lef...       5\n",
       "8657     preprocessed_images(divide)/H/H_90_686_left.jpg       5\n",
       "9667          preprocessed_images(divide)/M/401_left.jpg       6\n",
       "3106   preprocessed_images(divide)/C/C_90_2138_right.jpg       3\n",
       "\n",
       "[13000 rows x 2 columns]"
      ]
     },
     "execution_count": 13,
     "metadata": {},
     "output_type": "execute_result"
    }
   ],
   "source": [
    "df"
   ]
  },
  {
   "cell_type": "markdown",
   "id": "0b8acb5c",
   "metadata": {},
   "source": [
    "# 데이터"
   ]
  },
  {
   "cell_type": "code",
   "execution_count": 14,
   "id": "4a954ad3",
   "metadata": {},
   "outputs": [],
   "source": [
    "def create_datasets(df, img_width, img_height):\n",
    "    imgs = []\n",
    "    for path in tqdm(df['filename']):\n",
    "        img = cv2.imread(path)\n",
    "        img = cv2.cvtColor(img, cv2.COLOR_BGR2RGB)\n",
    "        img = cv2.resize(img, (img_width, img_height))\n",
    "        imgs.append(img)\n",
    "        \n",
    "    imgs = np.array(imgs, dtype='float32')\n",
    "#   df = pd.get_dummies(df['labels'])\n",
    "    df = to_categorical(df['labels'], num_classes = 8)\n",
    "    return imgs, df"
   ]
  },
  {
   "cell_type": "code",
   "execution_count": 15,
   "id": "24704501",
   "metadata": {},
   "outputs": [],
   "source": [
    "# train data, test data 분리\n",
    "train_df, test_df = train_test_split(df,\n",
    "                                     test_size=0.30, \n",
    "                                     random_state=42,\n",
    "                                     stratify=df['labels']\n",
    "                                    )\n",
    "\n",
    "train_df, val_df = train_test_split(train_df,\n",
    "                                    test_size=0.20,\n",
    "                                    random_state=42,\n",
    "#                                    stratify=train_df['labels']\n",
    "                                   )"
   ]
  },
  {
   "cell_type": "code",
   "execution_count": 16,
   "id": "4f899863",
   "metadata": {},
   "outputs": [
    {
     "data": {
      "text/plain": [
       "((7280, 2), (3900, 2), (1820, 2))"
      ]
     },
     "execution_count": 16,
     "metadata": {},
     "output_type": "execute_result"
    }
   ],
   "source": [
    "train_df.shape, test_df.shape, val_df.shape"
   ]
  },
  {
   "cell_type": "code",
   "execution_count": 17,
   "id": "4bad8103",
   "metadata": {},
   "outputs": [
    {
     "name": "stderr",
     "output_type": "stream",
     "text": [
      "100%|██████████| 7280/7280 [00:28<00:00, 254.91it/s]\n",
      "100%|██████████| 1820/1820 [00:06<00:00, 270.93it/s]\n",
      "100%|██████████| 3900/3900 [00:14<00:00, 272.63it/s]\n"
     ]
    }
   ],
   "source": [
    "train_imgs, train_labels = create_datasets(train_df, IMG_WIDTH, IMG_HEIGHT)\n",
    "val_imgs, val_labels = create_datasets(val_df, IMG_WIDTH, IMG_HEIGHT)\n",
    "test_imgs, test_labels = create_datasets(test_df, IMG_WIDTH, IMG_HEIGHT)"
   ]
  },
  {
   "cell_type": "code",
   "execution_count": 23,
   "id": "35bc6bbc",
   "metadata": {},
   "outputs": [],
   "source": [
    "train_imgs = train_imgs / 255.0\n",
    "val_imgs = val_imgs / 255.0\n",
    "test_imgs = test_imgs / 255.0\n"
   ]
  },
  {
   "cell_type": "code",
   "execution_count": 24,
   "id": "49bb37fa",
   "metadata": {},
   "outputs": [
    {
     "data": {
      "text/plain": [
       "'\\ntrain_imgs = preprocess_input(train_imgs)\\nval_imgs = preprocess_input(val_imgs)\\ntest_imgs = preprocess_input(test_imgs)\\n'"
      ]
     },
     "execution_count": 24,
     "metadata": {},
     "output_type": "execute_result"
    }
   ],
   "source": [
    "'''\n",
    "train_imgs = preprocess_input(train_imgs)\n",
    "val_imgs = preprocess_input(val_imgs)\n",
    "test_imgs = preprocess_input(test_imgs)\n",
    "'''"
   ]
  },
  {
   "cell_type": "code",
   "execution_count": 25,
   "id": "18589239",
   "metadata": {},
   "outputs": [
    {
     "data": {
      "text/plain": [
       "(7280, 1820, 3900)"
      ]
     },
     "execution_count": 25,
     "metadata": {},
     "output_type": "execute_result"
    }
   ],
   "source": [
    "len(train_imgs), len(val_imgs), len(test_imgs)"
   ]
  },
  {
   "cell_type": "code",
   "execution_count": 26,
   "id": "db9111e4",
   "metadata": {},
   "outputs": [
    {
     "data": {
      "text/plain": [
       "((7280, 224, 224, 3), (1820, 224, 224, 3), (3900, 224, 224, 3))"
      ]
     },
     "execution_count": 26,
     "metadata": {},
     "output_type": "execute_result"
    }
   ],
   "source": [
    "train_imgs.shape, val_imgs.shape, test_imgs.shape"
   ]
  },
  {
   "cell_type": "code",
   "execution_count": 27,
   "id": "277a07fd",
   "metadata": {},
   "outputs": [
    {
     "data": {
      "text/plain": [
       "((7280, 8), (1820, 8), (3900, 8))"
      ]
     },
     "execution_count": 27,
     "metadata": {},
     "output_type": "execute_result"
    }
   ],
   "source": [
    "train_labels.shape, val_labels.shape, test_labels.shape"
   ]
  },
  {
   "cell_type": "markdown",
   "id": "90a56fbe",
   "metadata": {},
   "source": [
    "# Model"
   ]
  },
  {
   "cell_type": "code",
   "execution_count": 35,
   "id": "78b76b74",
   "metadata": {
    "scrolled": true
   },
   "outputs": [],
   "source": [
    "del model"
   ]
  },
  {
   "cell_type": "code",
   "execution_count": 36,
   "id": "68b23e8a",
   "metadata": {},
   "outputs": [],
   "source": [
    "BinaryAccuracy = [\n",
    "    tf.keras.metrics.BinaryAccuracy(name='accuracy'),\n",
    "    tf.keras.metrics.Precision(name='precision'),\n",
    "    tf.keras.metrics.Recall(name='recall'),\n",
    "    tf.keras.metrics.AUC(name='auc')\n",
    "]\n"
   ]
  },
  {
   "cell_type": "code",
   "execution_count": 37,
   "id": "409663bb",
   "metadata": {},
   "outputs": [
    {
     "name": "stdout",
     "output_type": "stream",
     "text": [
      "Model: \"model_3\"\n",
      "_________________________________________________________________\n",
      " Layer (type)                Output Shape              Param #   \n",
      "=================================================================\n",
      " input_7 (InputLayer)        [(None, 224, 224, 3)]     0         \n",
      "                                                                 \n",
      " vgg19 (Functional)          (None, 7, 7, 512)         20024384  \n",
      "                                                                 \n",
      " global_average_pooling2d_3   (None, 512)              0         \n",
      " (GlobalAveragePooling2D)                                        \n",
      "                                                                 \n",
      " dense_3 (Dense)             (None, 8)                 4104      \n",
      "                                                                 \n",
      "=================================================================\n",
      "Total params: 20,028,488\n",
      "Trainable params: 20,028,488\n",
      "Non-trainable params: 0\n",
      "_________________________________________________________________\n"
     ]
    }
   ],
   "source": [
    "def build_model(img_height, img_width, n):\n",
    "    inp = Input(shape=(img_height,img_width,n))\n",
    "    efnet =  tf.keras.applications.vgg19.VGG19(\n",
    "    include_top=False,\n",
    "    weights='imagenet',\n",
    "    input_shape=(224, 224, 3),\n",
    "    classifier_activation='softmax'\n",
    ")\n",
    "\n",
    "    \n",
    "  \n",
    "    \n",
    "    \n",
    "    x = efnet(inp)\n",
    "    x = GlobalAveragePooling2D()(x)\n",
    "    x = Dense(8, activation='sigmoid')(x)\n",
    "    model = tf.keras.Model(inputs=inp, outputs=x)\n",
    "    opt = tf.keras.optimizers.Adam(learning_rate=0.00003)\n",
    "    loss = tf.keras.losses.BinaryCrossentropy(label_smoothing=0.01)\n",
    "    model.compile(optimizer=opt, loss=loss, metrics=[BinaryAccuracy])\n",
    "    return model\n",
    "\n",
    "model = build_model(IMG_HEIGHT, IMG_WIDTH, 3)\n",
    "model.summary()"
   ]
  },
  {
   "cell_type": "code",
   "execution_count": 38,
   "id": "62328ba7",
   "metadata": {},
   "outputs": [],
   "source": [
    "generator = ImageDataGenerator(horizontal_flip=True, \n",
    "                               height_shift_range=0.1,\n",
    "                               fill_mode='reflect') \n",
    "\n",
    "es_callback = tf.keras.callbacks.EarlyStopping(patience=20, \n",
    "                                               verbose=1, \n",
    "                                               restore_best_weights=True)\n",
    "\n",
    "\n",
    "reduce_lr = tf.keras.callbacks.ReduceLROnPlateau(factor=0.1, patience=10, verbose=1)"
   ]
  },
  {
   "cell_type": "code",
   "execution_count": 39,
   "id": "0a4502ad",
   "metadata": {
    "scrolled": false
   },
   "outputs": [
    {
     "name": "stdout",
     "output_type": "stream",
     "text": [
      "Epoch 1/100\n",
      "227/227 [==============================] - 88s 362ms/step - loss: 0.3134 - accuracy: 0.8883 - precision: 0.6936 - recall: 0.1912 - auc: 0.7958 - val_loss: 0.2724 - val_accuracy: 0.9002 - val_precision: 0.8509 - val_recall: 0.2445 - val_auc: 0.8628 - lr: 3.0000e-05\n",
      "Epoch 2/100\n",
      "227/227 [==============================] - 86s 378ms/step - loss: 0.2562 - accuracy: 0.9043 - precision: 0.7699 - recall: 0.3342 - auc: 0.8885 - val_loss: 0.2370 - val_accuracy: 0.9100 - val_precision: 0.7736 - val_recall: 0.3962 - val_auc: 0.9106 - lr: 3.0000e-05\n",
      "Epoch 3/100\n",
      "227/227 [==============================] - 87s 379ms/step - loss: 0.2334 - accuracy: 0.9128 - precision: 0.7873 - recall: 0.4139 - auc: 0.9141 - val_loss: 0.2286 - val_accuracy: 0.9114 - val_precision: 0.7912 - val_recall: 0.3956 - val_auc: 0.9209 - lr: 3.0000e-05\n",
      "Epoch 4/100\n",
      "227/227 [==============================] - 87s 380ms/step - loss: 0.2172 - accuracy: 0.9191 - precision: 0.7968 - recall: 0.4734 - auc: 0.9299 - val_loss: 0.2117 - val_accuracy: 0.9198 - val_precision: 0.7796 - val_recall: 0.4995 - val_auc: 0.9369 - lr: 3.0000e-05\n",
      "Epoch 5/100\n",
      "227/227 [==============================] - 87s 380ms/step - loss: 0.2030 - accuracy: 0.9238 - precision: 0.8066 - recall: 0.5137 - auc: 0.9429 - val_loss: 0.2100 - val_accuracy: 0.9212 - val_precision: 0.7633 - val_recall: 0.5352 - val_auc: 0.9371 - lr: 3.0000e-05\n",
      "Epoch 6/100\n",
      "227/227 [==============================] - 87s 380ms/step - loss: 0.1946 - accuracy: 0.9275 - precision: 0.8075 - recall: 0.5515 - auc: 0.9486 - val_loss: 0.2054 - val_accuracy: 0.9225 - val_precision: 0.7988 - val_recall: 0.5082 - val_auc: 0.9412 - lr: 3.0000e-05\n",
      "Epoch 7/100\n",
      "227/227 [==============================] - 87s 380ms/step - loss: 0.1837 - accuracy: 0.9324 - precision: 0.8183 - recall: 0.5901 - auc: 0.9559 - val_loss: 0.2081 - val_accuracy: 0.9220 - val_precision: 0.7591 - val_recall: 0.5505 - val_auc: 0.9385 - lr: 3.0000e-05\n",
      "Epoch 8/100\n",
      "227/227 [==============================] - 87s 380ms/step - loss: 0.1762 - accuracy: 0.9357 - precision: 0.8242 - recall: 0.6177 - auc: 0.9612 - val_loss: 0.1982 - val_accuracy: 0.9247 - val_precision: 0.7818 - val_recall: 0.5511 - val_auc: 0.9462 - lr: 3.0000e-05\n",
      "Epoch 9/100\n",
      "227/227 [==============================] - 87s 380ms/step - loss: 0.1626 - accuracy: 0.9421 - precision: 0.8408 - recall: 0.6618 - auc: 0.9688 - val_loss: 0.1968 - val_accuracy: 0.9264 - val_precision: 0.7683 - val_recall: 0.5885 - val_auc: 0.9479 - lr: 3.0000e-05\n",
      "Epoch 10/100\n",
      "227/227 [==============================] - 87s 380ms/step - loss: 0.1557 - accuracy: 0.9453 - precision: 0.8512 - recall: 0.6815 - auc: 0.9725 - val_loss: 0.1933 - val_accuracy: 0.9269 - val_precision: 0.7448 - val_recall: 0.6319 - val_auc: 0.9522 - lr: 3.0000e-05\n",
      "Epoch 11/100\n",
      "227/227 [==============================] - 87s 380ms/step - loss: 0.1452 - accuracy: 0.9497 - precision: 0.8566 - recall: 0.7181 - auc: 0.9776 - val_loss: 0.1856 - val_accuracy: 0.9349 - val_precision: 0.7865 - val_recall: 0.6577 - val_auc: 0.9589 - lr: 3.0000e-05\n",
      "Epoch 12/100\n",
      "227/227 [==============================] - 87s 379ms/step - loss: 0.1374 - accuracy: 0.9546 - precision: 0.8676 - recall: 0.7518 - auc: 0.9804 - val_loss: 0.2058 - val_accuracy: 0.9234 - val_precision: 0.7444 - val_recall: 0.5890 - val_auc: 0.9463 - lr: 3.0000e-05\n",
      "Epoch 13/100\n",
      "227/227 [==============================] - 87s 380ms/step - loss: 0.1280 - accuracy: 0.9586 - precision: 0.8812 - recall: 0.7725 - auc: 0.9842 - val_loss: 0.1816 - val_accuracy: 0.9355 - val_precision: 0.7908 - val_recall: 0.6582 - val_auc: 0.9589 - lr: 3.0000e-05\n",
      "Epoch 14/100\n",
      "227/227 [==============================] - 87s 380ms/step - loss: 0.1200 - accuracy: 0.9629 - precision: 0.8927 - recall: 0.7989 - auc: 0.9869 - val_loss: 0.2146 - val_accuracy: 0.9251 - val_precision: 0.7416 - val_recall: 0.6148 - val_auc: 0.9417 - lr: 3.0000e-05\n",
      "Epoch 15/100\n",
      "227/227 [==============================] - 87s 380ms/step - loss: 0.1103 - accuracy: 0.9677 - precision: 0.9052 - recall: 0.8279 - auc: 0.9901 - val_loss: 0.1917 - val_accuracy: 0.9299 - val_precision: 0.7690 - val_recall: 0.6275 - val_auc: 0.9539 - lr: 3.0000e-05\n",
      "Epoch 16/100\n",
      "227/227 [==============================] - 87s 380ms/step - loss: 0.1010 - accuracy: 0.9720 - precision: 0.9149 - recall: 0.8552 - auc: 0.9926 - val_loss: 0.1878 - val_accuracy: 0.9325 - val_precision: 0.7723 - val_recall: 0.6522 - val_auc: 0.9585 - lr: 3.0000e-05\n",
      "Epoch 17/100\n",
      "227/227 [==============================] - 87s 380ms/step - loss: 0.0953 - accuracy: 0.9745 - precision: 0.9214 - recall: 0.8698 - auc: 0.9936 - val_loss: 0.1872 - val_accuracy: 0.9345 - val_precision: 0.7688 - val_recall: 0.6813 - val_auc: 0.9596 - lr: 3.0000e-05\n",
      "Epoch 18/100\n",
      "227/227 [==============================] - 87s 380ms/step - loss: 0.0875 - accuracy: 0.9784 - precision: 0.9329 - recall: 0.8912 - auc: 0.9955 - val_loss: 0.1972 - val_accuracy: 0.9337 - val_precision: 0.7528 - val_recall: 0.6995 - val_auc: 0.9538 - lr: 3.0000e-05\n",
      "Epoch 19/100\n",
      "227/227 [==============================] - 87s 380ms/step - loss: 0.0798 - accuracy: 0.9822 - precision: 0.9445 - recall: 0.9114 - auc: 0.9968 - val_loss: 0.1968 - val_accuracy: 0.9379 - val_precision: 0.7870 - val_recall: 0.6901 - val_auc: 0.9519 - lr: 3.0000e-05\n",
      "Epoch 20/100\n",
      "227/227 [==============================] - 87s 380ms/step - loss: 0.0745 - accuracy: 0.9852 - precision: 0.9535 - recall: 0.9268 - auc: 0.9976 - val_loss: 0.2025 - val_accuracy: 0.9365 - val_precision: 0.7885 - val_recall: 0.6720 - val_auc: 0.9506 - lr: 3.0000e-05\n",
      "Epoch 21/100\n",
      "227/227 [==============================] - 87s 380ms/step - loss: 0.0687 - accuracy: 0.9875 - precision: 0.9609 - recall: 0.9382 - auc: 0.9983 - val_loss: 0.1950 - val_accuracy: 0.9408 - val_precision: 0.7900 - val_recall: 0.7170 - val_auc: 0.9577 - lr: 3.0000e-05\n",
      "Epoch 22/100\n",
      "227/227 [==============================] - 87s 380ms/step - loss: 0.0618 - accuracy: 0.9911 - precision: 0.9710 - recall: 0.9573 - auc: 0.9990 - val_loss: 0.2104 - val_accuracy: 0.9385 - val_precision: 0.7827 - val_recall: 0.7027 - val_auc: 0.9467 - lr: 3.0000e-05\n",
      "Epoch 23/100\n",
      "228/227 [==============================] - ETA: 0s - loss: 0.0614 - accuracy: 0.9910 - precision: 0.9713 - recall: 0.9562 - auc: 0.9991\n",
      "Epoch 23: ReduceLROnPlateau reducing learning rate to 2.9999999242136257e-06.\n",
      "227/227 [==============================] - 87s 380ms/step - loss: 0.0614 - accuracy: 0.9910 - precision: 0.9713 - recall: 0.9562 - auc: 0.9991 - val_loss: 0.2077 - val_accuracy: 0.9383 - val_precision: 0.7827 - val_recall: 0.7005 - val_auc: 0.9518 - lr: 3.0000e-05\n",
      "Epoch 24/100\n",
      "227/227 [==============================] - 87s 380ms/step - loss: 0.0470 - accuracy: 0.9975 - precision: 0.9919 - recall: 0.9880 - auc: 0.9999 - val_loss: 0.1937 - val_accuracy: 0.9440 - val_precision: 0.8076 - val_recall: 0.7242 - val_auc: 0.9564 - lr: 3.0000e-06\n",
      "Epoch 25/100\n",
      "227/227 [==============================] - 87s 380ms/step - loss: 0.0429 - accuracy: 0.9987 - precision: 0.9956 - recall: 0.9942 - auc: 1.0000 - val_loss: 0.1932 - val_accuracy: 0.9444 - val_precision: 0.8084 - val_recall: 0.7280 - val_auc: 0.9570 - lr: 3.0000e-06\n",
      "Epoch 26/100\n",
      "227/227 [==============================] - 87s 383ms/step - loss: 0.0417 - accuracy: 0.9990 - precision: 0.9972 - recall: 0.9946 - auc: 1.0000 - val_loss: 0.1942 - val_accuracy: 0.9444 - val_precision: 0.8057 - val_recall: 0.7313 - val_auc: 0.9562 - lr: 3.0000e-06\n",
      "Epoch 27/100\n",
      "227/227 [==============================] - 87s 380ms/step - loss: 0.0408 - accuracy: 0.9994 - precision: 0.9982 - recall: 0.9970 - auc: 1.0000 - val_loss: 0.1916 - val_accuracy: 0.9444 - val_precision: 0.8084 - val_recall: 0.7280 - val_auc: 0.9559 - lr: 3.0000e-06\n",
      "Epoch 28/100\n",
      "227/227 [==============================] - 87s 380ms/step - loss: 0.0399 - accuracy: 0.9995 - precision: 0.9985 - recall: 0.9974 - auc: 1.0000 - val_loss: 0.1915 - val_accuracy: 0.9446 - val_precision: 0.8060 - val_recall: 0.7330 - val_auc: 0.9554 - lr: 3.0000e-06\n",
      "Epoch 29/100\n",
      "227/227 [==============================] - 87s 380ms/step - loss: 0.0397 - accuracy: 0.9996 - precision: 0.9992 - recall: 0.9979 - auc: 1.0000 - val_loss: 0.1931 - val_accuracy: 0.9444 - val_precision: 0.8092 - val_recall: 0.7269 - val_auc: 0.9551 - lr: 3.0000e-06\n"
     ]
    },
    {
     "name": "stdout",
     "output_type": "stream",
     "text": [
      "Epoch 30/100\n",
      "227/227 [==============================] - 87s 380ms/step - loss: 0.0390 - accuracy: 0.9998 - precision: 0.9995 - recall: 0.9989 - auc: 1.0000 - val_loss: 0.1941 - val_accuracy: 0.9442 - val_precision: 0.8068 - val_recall: 0.7275 - val_auc: 0.9541 - lr: 3.0000e-06\n",
      "Epoch 31/100\n",
      "227/227 [==============================] - 87s 380ms/step - loss: 0.0389 - accuracy: 0.9997 - precision: 0.9993 - recall: 0.9986 - auc: 1.0000 - val_loss: 0.1961 - val_accuracy: 0.9442 - val_precision: 0.8103 - val_recall: 0.7231 - val_auc: 0.9534 - lr: 3.0000e-06\n",
      "Epoch 32/100\n",
      "227/227 [==============================] - 87s 383ms/step - loss: 0.0384 - accuracy: 0.9998 - precision: 0.9996 - recall: 0.9989 - auc: 1.0000 - val_loss: 0.1948 - val_accuracy: 0.9439 - val_precision: 0.8052 - val_recall: 0.7269 - val_auc: 0.9537 - lr: 3.0000e-06\n",
      "Epoch 33/100\n",
      "228/227 [==============================] - ETA: 0s - loss: 0.0380 - accuracy: 0.9998 - precision: 0.9996 - recall: 0.9988 - auc: 1.0000Restoring model weights from the end of the best epoch: 13.\n",
      "\n",
      "Epoch 33: ReduceLROnPlateau reducing learning rate to 2.9999998787388907e-07.\n",
      "227/227 [==============================] - 87s 380ms/step - loss: 0.0380 - accuracy: 0.9998 - precision: 0.9996 - recall: 0.9988 - auc: 1.0000 - val_loss: 0.1945 - val_accuracy: 0.9436 - val_precision: 0.8033 - val_recall: 0.7269 - val_auc: 0.9537 - lr: 3.0000e-06\n",
      "Epoch 33: early stopping\n"
     ]
    },
    {
     "data": {
      "image/png": "[encoded data removed]",
      "text/plain": [
       "<Figure size 432x288 with 1 Axes>"
      ]
     },
     "metadata": {
      "needs_background": "light"
     },
     "output_type": "display_data"
    },
    {
     "data": {
      "image/png": "[encoded data removed]",
      "text/plain": [
       "<Figure size 432x288 with 1 Axes>"
      ]
     },
     "metadata": {
      "needs_background": "light"
     },
     "output_type": "display_data"
    }
   ],
   "source": [
    "history = model.fit(generator.flow(train_imgs, \n",
    "                                   train_labels,\n",
    "                                   batch_size=BATCH_SIZE), \n",
    "                    epochs=EPOCHS,\n",
    "                    steps_per_epoch=len(train_imgs)/BATCH_SIZE,\n",
    "                    callbacks=[es_callback, reduce_lr],\n",
    "                    validation_data=(val_imgs, val_labels))\n",
    "\n",
    "\n",
    "pd.DataFrame(history.history)[['accuracy', 'val_accuracy']].plot()\n",
    "pd.DataFrame(history.history)[['loss', 'val_loss']].plot()\n",
    "plt.show()"
   ]
  },
  {
   "cell_type": "code",
   "execution_count": 40,
   "id": "4961d5ae",
   "metadata": {},
   "outputs": [],
   "source": [
    "model.save('VGG19.h5')"
   ]
  },
  {
   "cell_type": "code",
   "execution_count": 28,
   "id": "88d3d8e9",
   "metadata": {},
   "outputs": [],
   "source": [
    "load_model = tf.keras.models.load_model('VGG19.h5')"
   ]
  },
  {
   "cell_type": "code",
   "execution_count": 29,
   "id": "a5048f17",
   "metadata": {},
   "outputs": [
    {
     "name": "stdout",
     "output_type": "stream",
     "text": [
      "122/122 [==============================] - 21s 123ms/step - loss: 0.7079 - accuracy: 0.7815 - precision: 0.1259 - recall: 0.1259 - auc: 0.4773\n"
     ]
    },
    {
     "data": {
      "text/plain": [
       "[0.7078897953033447,\n",
       " 0.7814743518829346,\n",
       " 0.12589743733406067,\n",
       " 0.12589743733406067,\n",
       " 0.4773359000682831]"
      ]
     },
     "execution_count": 29,
     "metadata": {},
     "output_type": "execute_result"
    }
   ],
   "source": [
    "load_model.evaluate(test_imgs, test_labels)"
   ]
  },
  {
   "cell_type": "code",
   "execution_count": 30,
   "id": "8e94bafe",
   "metadata": {},
   "outputs": [
    {
     "name": "stdout",
     "output_type": "stream",
     "text": [
      "1/1 [==============================] - 1s 777ms/step\n",
      "[[0.0027183  0.00280773 0.06650421 0.7954362  0.00518775 0.01547012\n",
      "  0.00984466 0.07403457]]\n",
      "[1. 0. 0. 0. 0. 0. 0. 0.]\n",
      "\n",
      "1/1 [==============================] - 0s 15ms/step\n",
      "[[0.00271477 0.00281457 0.06623708 0.7962229  0.00515922 0.01527098\n",
      "  0.0098774  0.074098  ]]\n",
      "[0. 0. 0. 0. 0. 1. 0. 0.]\n",
      "\n",
      "1/1 [==============================] - 0s 15ms/step\n",
      "[[0.00271809 0.00280472 0.06652908 0.7960619  0.0051769  0.01541992\n",
      "  0.00986658 0.07387129]]\n",
      "[1. 0. 0. 0. 0. 0. 0. 0.]\n",
      "\n",
      "1/1 [==============================] - 0s 15ms/step\n",
      "[[0.00272556 0.00281421 0.0663846  0.79615414 0.00517001 0.01535091\n",
      "  0.00987875 0.07374854]]\n",
      "[0. 0. 0. 1. 0. 0. 0. 0.]\n",
      "\n",
      "1/1 [==============================] - 0s 16ms/step\n",
      "[[0.00273144 0.00283068 0.06579737 0.79790956 0.00523987 0.0156668\n",
      "  0.00991714 0.07273643]]\n",
      "[0. 1. 0. 0. 0. 0. 0. 0.]\n",
      "\n",
      "1/1 [==============================] - 0s 15ms/step\n",
      "[[0.00273011 0.00279702 0.06722552 0.79464036 0.00517879 0.01545035\n",
      "  0.00987408 0.0739019 ]]\n",
      "[0. 0. 0. 0. 1. 0. 0. 0.]\n",
      "\n",
      "1/1 [==============================] - 0s 15ms/step\n",
      "[[0.00272466 0.00282014 0.0665246  0.79666615 0.00517565 0.01537892\n",
      "  0.00993532 0.07323077]]\n",
      "[0. 1. 0. 0. 0. 0. 0. 0.]\n",
      "\n",
      "1/1 [==============================] - 0s 14ms/step\n",
      "[[0.0027317  0.00280802 0.06645944 0.79607475 0.00518531 0.01540733\n",
      "  0.00988531 0.07380874]]\n",
      "[0. 0. 0. 0. 1. 0. 0. 0.]\n",
      "\n",
      "1/1 [==============================] - 0s 15ms/step\n",
      "[[0.00272891 0.00280691 0.06645797 0.79577744 0.0052217  0.01561455\n",
      "  0.00984133 0.07373185]]\n",
      "[1. 0. 0. 0. 0. 0. 0. 0.]\n",
      "\n",
      "1/1 [==============================] - 0s 15ms/step\n",
      "[[0.00273151 0.00279523 0.06682527 0.79478174 0.00520316 0.01550572\n",
      "  0.00982019 0.07420003]]\n",
      "[0. 0. 0. 0. 1. 0. 0. 0.]\n",
      "\n"
     ]
    }
   ],
   "source": [
    "for iii in range(0, 10):\n",
    "    print(load_model.predict(test_imgs[iii:iii+1]))\n",
    "    print(test_labels[iii,:])\n",
    "    print()"
   ]
  },
  {
   "cell_type": "code",
   "execution_count": null,
   "id": "8d632193",
   "metadata": {},
   "outputs": [],
   "source": []
  }
 ],
 "metadata": {
  "kernelspec": {
   "display_name": "Python 3 (ipykernel)",
   "language": "python",
   "name": "python3"
  },
  "language_info": {
   "codemirror_mode": {
    "name": "ipython",
    "version": 3
   },
   "file_extension": ".py",
   "mimetype": "text/x-python",
   "name": "python",
   "nbconvert_exporter": "python",
   "pygments_lexer": "ipython3",
   "version": "3.8.13"
  }
 },
 "nbformat": 4,
 "nbformat_minor": 5
}
