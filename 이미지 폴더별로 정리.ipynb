{
 "cells": [
  {
   "cell_type": "code",
   "execution_count": 6,
   "id": "a6529427",
   "metadata": {},
   "outputs": [],
   "source": [
    "import pandas as pd\n",
    "import cv2\n",
    "import os\n",
    "import glob"
   ]
  },
  {
   "cell_type": "code",
   "execution_count": 7,
   "id": "38b0062f",
   "metadata": {},
   "outputs": [],
   "source": [
    "full_df = pd.read_csv('full_df.csv')"
   ]
  },
  {
   "cell_type": "code",
   "execution_count": 8,
   "id": "1bd055ba",
   "metadata": {},
   "outputs": [],
   "source": [
    "full_df['labels'] = full_df['labels'].map({\"['N']\" : 'N', \"['D']\" : 'D', \"['G']\" : 'G', \"['C']\" : 'C',  \"['A']\" : 'A', \"['H']\" : 'H', \"['M']\" : 'M', \"['O']\" : 'O'})"
   ]
  },
  {
   "cell_type": "code",
   "execution_count": 9,
   "id": "b25e171b",
   "metadata": {},
   "outputs": [],
   "source": [
    "full_df = full_df[['filename', 'labels']]"
   ]
  },
  {
   "cell_type": "code",
   "execution_count": 10,
   "id": "b9bf07df",
   "metadata": {},
   "outputs": [],
   "source": [
    "filename_li = []\n",
    "for i in range(len(full_df['filename'])):\n",
    "    filename_li.append(full_df['filename'][i])"
   ]
  },
  {
   "cell_type": "code",
   "execution_count": 11,
   "id": "5cd3cc32",
   "metadata": {},
   "outputs": [
    {
     "data": {
      "text/plain": [
       "['0_right.jpg', '1_right.jpg', '2_right.jpg', '4_right.jpg', '5_right.jpg']"
      ]
     },
     "execution_count": 11,
     "metadata": {},
     "output_type": "execute_result"
    }
   ],
   "source": [
    "filename_li[:5]"
   ]
  },
  {
   "cell_type": "code",
   "execution_count": 39,
   "id": "9f92a732",
   "metadata": {},
   "outputs": [],
   "source": [
    "load_path = 'preprocessed_images'"
   ]
  },
  {
   "cell_type": "code",
   "execution_count": 40,
   "id": "10cfe803",
   "metadata": {},
   "outputs": [],
   "source": [
    "full_df['filename'] = load_path + '/' + full_df['filename']"
   ]
  },
  {
   "cell_type": "code",
   "execution_count": 41,
   "id": "515d4a3a",
   "metadata": {},
   "outputs": [],
   "source": [
    "N_save_path = 'preprocessed_images(divide)/N'\n",
    "D_save_path = 'preprocessed_images(divide)/D'\n",
    "O_save_path = 'preprocessed_images(divide)/O'\n",
    "C_save_path = 'preprocessed_images(divide)/C'\n",
    "G_save_path = 'preprocessed_images(divide)/G'\n",
    "A_save_path = 'preprocessed_images(divide)/A'\n",
    "M_save_path = 'preprocessed_images(divide)/M'\n",
    "H_save_path = 'preprocessed_images(divide)/H'"
   ]
  },
  {
   "cell_type": "code",
   "execution_count": 42,
   "id": "e13a13d5",
   "metadata": {},
   "outputs": [],
   "source": [
    "li_N = []\n",
    "li_D = []\n",
    "li_O = []\n",
    "li_C = []\n",
    "li_G = []\n",
    "li_A = []\n",
    "li_M = []\n",
    "li_H = []\n",
    "\n",
    "i = 0\n",
    "\n",
    "for i in range(len(full_df)) :\n",
    "    if  full_df['labels'][i] == 'N' :\n",
    "        li_N.append(full_df['filename'][i])\n",
    "        image = cv2.imread(full_df['filename'][i], cv2.IMREAD_COLOR)\n",
    "        cv2.imwrite(os.path.join(N_save_path , filename_li[i] ),image)\n",
    "    \n",
    "    elif full_df['labels'][i] == 'D' :\n",
    "        li_D.append(full_df['filename'][i])\n",
    "        image = cv2.imread(full_df['filename'][i], cv2.IMREAD_COLOR)\n",
    "        cv2.imwrite(os.path.join(D_save_path , filename_li[i] ),image)\n",
    "        \n",
    "    elif full_df['labels'][i] == 'O' :\n",
    "        li_O.append(full_df['filename'][i])\n",
    "        image = cv2.imread(full_df['filename'][i], cv2.IMREAD_COLOR)\n",
    "        cv2.imwrite(os.path.join(O_save_path , filename_li[i] ),image)\n",
    "         \n",
    "    elif full_df['labels'][i] == 'C' :\n",
    "        li_C.append(full_df['filename'][i])\n",
    "        image = cv2.imread(full_df['filename'][i], cv2.IMREAD_COLOR)\n",
    "        cv2.imwrite(os.path.join(C_save_path , filename_li[i] ),image)\n",
    "\n",
    "    elif full_df['labels'][i] == 'G' :\n",
    "        li_G.append(full_df['filename'][i])\n",
    "        image = cv2.imread(full_df['filename'][i], cv2.IMREAD_COLOR)\n",
    "        cv2.imwrite(os.path.join(G_save_path , filename_li[i] ),image)\n",
    "        \n",
    "    elif full_df['labels'][i] == 'A' :\n",
    "        li_A.append(full_df['filename'][i])\n",
    "        image = cv2.imread(full_df['filename'][i], cv2.IMREAD_COLOR)\n",
    "        cv2.imwrite(os.path.join(A_save_path , filename_li[i] ),image)\n",
    "        \n",
    "    elif full_df['labels'][i] == 'M' :\n",
    "        li_M.append(full_df['filename'][i])\n",
    "        image = cv2.imread(full_df['filename'][i], cv2.IMREAD_COLOR)\n",
    "        cv2.imwrite(os.path.join(M_save_path , filename_li[i] ),image)\n",
    "        \n",
    "    else :\n",
    "        li_H.append(full_df['filename'][i])\n",
    "        image = cv2.imread(full_df['filename'][i], cv2.IMREAD_COLOR)\n",
    "        cv2.imwrite(os.path.join(H_save_path , filename_li[i] ),image)\n",
    "        \n",
    "        "
   ]
  },
  {
   "cell_type": "code",
   "execution_count": 43,
   "id": "72885df5",
   "metadata": {},
   "outputs": [
    {
     "data": {
      "text/plain": [
       "N    2873\n",
       "D    1608\n",
       "O     708\n",
       "C     293\n",
       "G     284\n",
       "A     266\n",
       "M     232\n",
       "H     128\n",
       "Name: labels, dtype: int64"
      ]
     },
     "execution_count": 43,
     "metadata": {},
     "output_type": "execute_result"
    }
   ],
   "source": [
    "full_df['labels'].value_counts()"
   ]
  },
  {
   "cell_type": "code",
   "execution_count": 44,
   "id": "84a38e89",
   "metadata": {},
   "outputs": [
    {
     "data": {
      "text/plain": [
       "(2873, 1608, 708, 293, 284, 266, 232, 128)"
      ]
     },
     "execution_count": 44,
     "metadata": {},
     "output_type": "execute_result"
    }
   ],
   "source": [
    "len(li_N), len(li_D), len(li_O), len(li_C), len(li_G), len(li_A), len(li_M), len(li_H)"
   ]
  },
  {
   "cell_type": "code",
   "execution_count": 14,
   "id": "59b8c27e",
   "metadata": {},
   "outputs": [],
   "source": [
    "nn = glob.glob('preprocessed_images(divide)/N/*')\n",
    "dd = glob.glob('preprocessed_images(divide)/D/*')\n",
    "oo = glob.glob('preprocessed_images(divide)/O/*')\n",
    "cc = glob.glob('preprocessed_images(divide)/C/*')\n",
    "gg = glob.glob('preprocessed_images(divide)/G/*')\n",
    "aa = glob.glob('preprocessed_images(divide)/A/*')\n",
    "mm = glob.glob('preprocessed_images(divide)/M/*')\n",
    "hh = glob.glob('preprocessed_images(divide)/H/*')"
   ]
  },
  {
   "cell_type": "code",
   "execution_count": 15,
   "id": "04badca9",
   "metadata": {},
   "outputs": [
    {
     "data": {
      "text/plain": [
       "(2873, 1608, 708, 293, 284, 266, 232, 128)"
      ]
     },
     "execution_count": 15,
     "metadata": {},
     "output_type": "execute_result"
    }
   ],
   "source": [
    "len(nn), len(dd), len(oo), len(cc), len(gg), len(aa), len(mm), len(hh)"
   ]
  },
  {
   "cell_type": "code",
   "execution_count": null,
   "id": "02ed07ff",
   "metadata": {},
   "outputs": [],
   "source": []
  }
 ],
 "metadata": {
  "kernelspec": {
   "display_name": "Python 3 (ipykernel)",
   "language": "python",
   "name": "python3"
  },
  "language_info": {
   "codemirror_mode": {
    "name": "ipython",
    "version": 3
   },
   "file_extension": ".py",
   "mimetype": "text/x-python",
   "name": "python",
   "nbconvert_exporter": "python",
   "pygments_lexer": "ipython3",
   "version": "3.8.13"
  }
 },
 "nbformat": 4,
 "nbformat_minor": 5
}
